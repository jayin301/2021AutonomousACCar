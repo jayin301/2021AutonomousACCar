{
 "cells": [
  {
   "cell_type": "code",
   "execution_count": 2,
   "id": "13e39ffb",
   "metadata": {},
   "outputs": [],
   "source": [
    "import torch"
   ]
  },
  {
   "cell_type": "code",
   "execution_count": 3,
   "id": "ed797a2b",
   "metadata": {},
   "outputs": [],
   "source": [
    "input = torch.ones(5)\n",
    "out = torch.zeros(3)\n",
    "\n",
    "w = torch.randn(5,3,requires_grad=True)\n",
    "b = torch.randn(3, requires_grad=True)\n",
    "\n",
    "z = torch.matmul(input, w) + b"
   ]
  },
  {
   "cell_type": "code",
   "execution_count": 4,
   "id": "2171716a",
   "metadata": {},
   "outputs": [],
   "source": [
    "loss = torch.nn.functional.binary_cross_entropy_with_logits(z, out)"
   ]
  },
  {
   "cell_type": "code",
   "execution_count": 5,
   "id": "b44c5fa4",
   "metadata": {},
   "outputs": [
    {
     "name": "stdout",
     "output_type": "stream",
     "text": [
      "Gradient function for z =  <AddBackward0 object at 0x106f61040>\n",
      "Gradient function for loss =  <BinaryCrossEntropyWithLogitsBackward object at 0x106f61790>\n"
     ]
    }
   ],
   "source": [
    "print(\"Gradient function for z = \", z.grad_fn)\n",
    "print(\"Gradient function for loss = \", loss.grad_fn)"
   ]
  },
  {
   "cell_type": "code",
   "execution_count": 6,
   "id": "ea77d924",
   "metadata": {},
   "outputs": [],
   "source": [
    "loss.backward()"
   ]
  },
  {
   "cell_type": "code",
   "execution_count": 7,
   "id": "d7e69e95",
   "metadata": {},
   "outputs": [
    {
     "name": "stdout",
     "output_type": "stream",
     "text": [
      "tensor([[0.2697, 0.2924, 0.0287],\n",
      "        [0.2697, 0.2924, 0.0287],\n",
      "        [0.2697, 0.2924, 0.0287],\n",
      "        [0.2697, 0.2924, 0.0287],\n",
      "        [0.2697, 0.2924, 0.0287]])\n",
      "tensor([0.2697, 0.2924, 0.0287])\n"
     ]
    }
   ],
   "source": [
    "print(w.grad)\n",
    "print(b.grad)"
   ]
  },
  {
   "cell_type": "code",
   "execution_count": 8,
   "id": "44e47fc6",
   "metadata": {},
   "outputs": [
    {
     "name": "stdout",
     "output_type": "stream",
     "text": [
      "True\n",
      "False\n"
     ]
    }
   ],
   "source": [
    "z = torch.matmul(input, w) + b\n",
    "print(z.requires_grad)\n",
    "\n",
    "with torch.no_grad():\n",
    "    z = torch.matmul(input, w) + b\n",
    "print(z.requires_grad)"
   ]
  },
  {
   "cell_type": "code",
   "execution_count": null,
   "id": "730b1477",
   "metadata": {},
   "outputs": [],
   "source": []
  }
 ],
 "metadata": {
  "kernelspec": {
   "display_name": "pytorch_test",
   "language": "python",
   "name": "pytorch_test"
  },
  "language_info": {
   "codemirror_mode": {
    "name": "ipython",
    "version": 3
   },
   "file_extension": ".py",
   "mimetype": "text/x-python",
   "name": "python",
   "nbconvert_exporter": "python",
   "pygments_lexer": "ipython3",
   "version": "3.8.10"
  }
 },
 "nbformat": 4,
 "nbformat_minor": 5
}
